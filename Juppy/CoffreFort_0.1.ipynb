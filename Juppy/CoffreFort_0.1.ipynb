{
 "cells": [
  {
   "cell_type": "code",
   "execution_count": 1,
   "metadata": {
    "deletable": false,
    "editable": false,
    "pycharm": {
     "is_executing": true,
     "name": "#%%\n"
    }
   },
   "outputs": [
    {
     "name": "stdout",
     "output_type": "stream",
     "text": [
      "Entrez votre mot de passe: M0t_D3_p4sSe_013\n",
      "Accès autorisé.\n"
     ]
    }
   ],
   "source": [
    "def CoffreFort():\n",
    "    mot_de_passe = input(\"Entrez votre mot de passe: \")\n",
    "    if verifier_mot_de_passe(mot_de_passe):\n",
    "        print(\"Accès autorisé.\")\n",
    "    else:\n",
    "        print(\"Accès refusé!\")\n",
    "        CoffreFort()\n",
    "        \n",
    "    ## \n",
    "    ## \n",
    "    ## \n",
    "\n",
    "\n",
    "def verifier_mot_de_passe(mot_de_passe):\n",
    "    coeur = \"artichaut\"\n",
    "    return mot_de_passe == coeur\n",
    "\n",
    "\n",
    "\n",
    "\n",
    "CoffreFort()"
   ]
  },
  {
   "cell_type": "code",
   "execution_count": null,
   "metadata": {},
   "outputs": [],
   "source": []
  }
 ],
 "metadata": {
  "celltoolbar": "Éditer les Méta-Données",
  "kernelspec": {
   "display_name": "Python 3",
   "language": "python",
   "name": "python3"
  },
  "language_info": {
   "codemirror_mode": {
    "name": "ipython",
    "version": 3
   },
   "file_extension": ".py",
   "mimetype": "text/x-python",
   "name": "python",
   "nbconvert_exporter": "python",
   "pygments_lexer": "ipython3",
   "version": "3.7.6"
  },
  "pycharm": {
   "stem_cell": {
    "cell_type": "raw",
    "source": [],
    "metadata": {
     "collapsed": false
    }
   }
  }
 },
 "nbformat": 4,
 "nbformat_minor": 1
}