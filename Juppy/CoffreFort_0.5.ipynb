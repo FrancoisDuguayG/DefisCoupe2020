{
 "cells": [
  {
   "cell_type": "code",
   "execution_count": null,
   "metadata": {
    "pycharm": {
     "name": "#%%\n"
    }
   },
   "outputs": [],
   "source": [
    "def CoffreFort():\n",
    "    mot_de_passe = input(\"Entrez votre mot de passe: \")\n",
    "    if verifier_mot_de_passe(mot_de_passe):\n",
    "        print(\"Accès autorisé.\")\n",
    "    else:\n",
    "        print(\"Accès refusé!\")\n",
    "        CoffreFort()\n",
    "\n",
    "    ##\n",
    "    ##\n",
    "    ##\n",
    "\n",
    "\n",
    "def verifier_mot_de_passe(mot_de_passe):\n",
    "    return (len(mot_de_passe) == 10 and\n",
    "            mot_de_passe[7] == \"R\" and\n",
    "            mot_de_passe[2] == \"N\" and\n",
    "            mot_de_passe[4] == \"o\" and\n",
    "            mot_de_passe[8] == \"3\" and\n",
    "            mot_de_passe[0] == \"b\" and\n",
    "            mot_de_passe[3] == \"_\" and\n",
    "            mot_de_passe[1] == \"0\" and\n",
    "            mot_de_passe[9] == \"?\" and\n",
    "            mot_de_passe[5] == \"R\" and\n",
    "            mot_de_passe[6] == \"d\")\n",
    "\n",
    "\n",
    "\n",
    "\n",
    "CoffreFort()"
   ]
  },
  {
   "cell_type": "code",
   "execution_count": null,
   "metadata": {},
   "outputs": [],
   "source": []
  }
 ],
 "metadata": {
  "kernelspec": {
   "display_name": "Python 3",
   "language": "python",
   "name": "python3"
  },
  "language_info": {
   "codemirror_mode": {
    "name": "ipython",
    "version": 3
   },
   "file_extension": ".py",
   "mimetype": "text/x-python",
   "name": "python",
   "nbconvert_exporter": "python",
   "pygments_lexer": "ipython3",
   "version": "3.7.6"
  },
  "pycharm": {
   "stem_cell": {
    "cell_type": "raw",
    "metadata": {
     "collapsed": false
    },
    "source": []
   }
  }
 },
 "nbformat": 4,
 "nbformat_minor": 1
}
