{
 "cells": [
  {
   "cell_type": "code",
   "execution_count": null,
   "metadata": {
    "collapsed": true,
    "deletable": false,
    "editable": false
   },
   "outputs": [],
   "source": [
    "def CoffreFort():\n",
    "    mot_de_passe = input(\"Entrez votre mot de passe: \")\n",
    "    if verifier_mot_de_passe(mot_de_passe):\n",
    "        print(\"Accès autorisé.\")\n",
    "    else:\n",
    "        print(\"Accès refusé!\")\n",
    "        CoffreFort()\n",
    "\n",
    "    ## je suis un Wizard de la programmation\n",
    "    ## Le mot de passe est trop bien cacher!\n",
    "    ## Pouf!\n",
    "\n",
    "def verifier_mot_de_passe(mot_de_passe):\n",
    "    a = \"CaD\"\n",
    "    b = \"4bra\"\n",
    "    c = \"C0C0\"\n",
    "    d = \"s3v\"\n",
    "    d = b\n",
    "    c = a\n",
    "    a = d\n",
    "    d = b\n",
    "    return mot_de_passe == a + c + a\n",
    "\n",
    "\n",
    "CoffreFort()"
   ]
  }
 ],
 "metadata": {
  "celltoolbar": "Éditer les Méta-Données",
  "kernelspec": {
   "display_name": "Python 3",
   "language": "python",
   "name": "python3"
  },
  "language_info": {
   "codemirror_mode": {
    "name": "ipython",
    "version": 3
   },
   "file_extension": ".py",
   "mimetype": "text/x-python",
   "name": "python",
   "nbconvert_exporter": "python",
   "pygments_lexer": "ipython3",
   "version": "3.7.6"
  },
  "pycharm": {
   "stem_cell": {
    "cell_type": "raw",
    "metadata": {
     "collapsed": false
    },
    "source": []
   }
  }
 },
 "nbformat": 4,
 "nbformat_minor": 1
}
