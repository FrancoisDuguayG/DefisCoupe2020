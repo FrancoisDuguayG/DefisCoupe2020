{
 "cells": [
  {
   "cell_type": "code",
   "execution_count": 1,
   "metadata": {
    "deletable": false,
    "editable": false,
    "pycharm": {
     "name": "#%%\n"
    }
   },
   "outputs": [
    {
     "name": "stdout",
     "output_type": "stream",
     "text": [
      "Entrez votre mot de passe: 21\n",
      "Accès refusé!\n",
      "Entrez votre mot de passe: 24\n",
      "Accès refusé!\n",
      "Entrez votre mot de passe: 4456\n",
      "Accès refusé!\n",
      "Entrez votre mot de passe: 124444pizzas\n",
      "Accès refusé!\n",
      "Entrez votre mot de passe: 24pizzas\n",
      "Accès refusé!\n",
      "Entrez votre mot de passe: 4456pizzas\n",
      "Accès refusé!\n",
      "Entrez votre mot de passe: 124444pizzas\n",
      "Accès refusé!\n",
      "Entrez votre mot de passe: 12444pizzas\n",
      "Accès autorisé.\n"
     ]
    }
   ],
   "source": [
    "def CoffreFort():\n",
    "    mot_de_passe = input(\"Entrez votre mot de passe: \")\n",
    "    if verifier_mot_de_passe(mot_de_passe):\n",
    "        print(\"Accès autorisé.\")\n",
    "    else:\n",
    "        print(\"Accès refusé!\")\n",
    "        CoffreFort()\n",
    "\n",
    "    ## Pour réussir à briser cette serrure il\n",
    "    ## faudrait être capable de multiplier des lettres Mouhaha!\n",
    "    ## Même si ça ressemble beaucoup à l'addition de lettres\n",
    "\n",
    "\n",
    "def verifier_mot_de_passe(mot_de_passe):\n",
    "    trois = 3\n",
    "    quatre = \"4\"\n",
    "    return mot_de_passe == str(trois * 4) + quatre * 3 + \"pizzas\"\n",
    "\n",
    "\n",
    "\n",
    "\n",
    "CoffreFort()"
   ]
  },
  {
   "cell_type": "code",
   "execution_count": null,
   "metadata": {},
   "outputs": [],
   "source": []
  }
 ],
 "metadata": {
  "celltoolbar": "Éditer les Méta-Données",
  "kernelspec": {
   "display_name": "Python 3",
   "language": "python",
   "name": "python3"
  },
  "language_info": {
   "codemirror_mode": {
    "name": "ipython",
    "version": 3
   },
   "file_extension": ".py",
   "mimetype": "text/x-python",
   "name": "python",
   "nbconvert_exporter": "python",
   "pygments_lexer": "ipython3",
   "version": "3.7.6"
  },
  "pycharm": {
   "stem_cell": {
    "cell_type": "raw",
    "metadata": {
     "collapsed": false
    },
    "source": []
   }
  }
 },
 "nbformat": 4,
 "nbformat_minor": 1
}
