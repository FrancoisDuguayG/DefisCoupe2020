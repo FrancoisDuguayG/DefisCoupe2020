{
 "cells": [
  {
   "cell_type": "code",
   "execution_count": null,
   "metadata": {
    "deletable": false,
    "editable": false,
    "pycharm": {
     "is_executing": false
    }
   },
   "outputs": [],
   "source": [
    "def CoffreFort():\n",
    "    mot_de_passe = input(\"Entrez votre mot de passe: \")\n",
    "    if verifier_mot_de_passe(mot_de_passe):\n",
    "        print(\"Accès autorisé.\")\n",
    "    else:\n",
    "        print(\"Accès refusé!\")\n",
    "        CoffreFort()\n",
    "\n",
    "    ##\n",
    "    ##\n",
    "    ##\n",
    "\n",
    "\n",
    "def verifier_mot_de_passe(mot_de_passe):\n",
    "    if len(mot_de_passe) != 14:\n",
    "        return False\n",
    "\n",
    "    crypto_mp = \"\"\n",
    "\n",
    "    for i in range(0, 6):\n",
    "        crypto_mp = crypto_mp + mot_de_passe[i]\n",
    "\n",
    "    for i in range(6,14):\n",
    "        crypto_mp = crypto_mp + mot_de_passe[19 - i]\n",
    "\n",
    "    return crypto_mp == \"v1v3_l!3pu0c_4\"\n",
    "\n",
    "\n",
    "\n",
    "\n",
    "CoffreFort()"
   ]
  },
  {
   "cell_type": "code",
   "execution_count": null,
   "metadata": {},
   "outputs": [],
   "source": []
  }
 ],
 "metadata": {
  "celltoolbar": "Éditer les Méta-Données",
  "kernelspec": {
   "display_name": "Python 3",
   "language": "python",
   "name": "python3"
  },
  "language_info": {
   "codemirror_mode": {
    "name": "ipython",
    "version": 3
   },
   "file_extension": ".py",
   "mimetype": "text/x-python",
   "name": "python",
   "nbconvert_exporter": "python",
   "pygments_lexer": "ipython3",
   "version": "3.7.6"
  },
  "pycharm": {
   "stem_cell": {
    "cell_type": "raw",
    "source": [],
    "metadata": {
     "collapsed": false
    }
   }
  }
 },
 "nbformat": 4,
 "nbformat_minor": 1
}