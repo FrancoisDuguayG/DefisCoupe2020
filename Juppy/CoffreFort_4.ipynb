{
 "cells": [
  {
   "cell_type": "code",
   "execution_count": null,
   "metadata": {
    "collapsed": true,
    "deletable": false,
    "editable": false
   },
   "outputs": [],
   "source": [
    "def CoffreFort():\n",
    "    mot_de_passe = 0\n",
    "    try:\n",
    "        mot_de_passe = int(input(\"Entrez votre mot de passe: \"))\n",
    "    except ValueError:\n",
    "        print(\"ERREUR!#?!\")\n",
    "    if verifier_mot_de_passe(mot_de_passe):\n",
    "        print(\"Accès autorisé.\")\n",
    "    else:\n",
    "        print(\"Accès refusé!\")\n",
    "        CoffreFort()\n",
    "\n",
    "    ##\n",
    "    ##\n",
    "    ##\n",
    "\n",
    "\n",
    "def verifier_mot_de_passe(mot_de_passe):\n",
    "    return mot_de_passe == (234 + 5275 - 1474) // 10 * ((5 ** 2) * (8 // 5))\n",
    "\n",
    "\n",
    "CoffreFort()"
   ]
  }
 ],
 "metadata": {
  "celltoolbar": "Éditer les Méta-Données",
  "kernelspec": {
   "display_name": "Python 3",
   "language": "python",
   "name": "python3"
  },
  "language_info": {
   "codemirror_mode": {
    "name": "ipython",
    "version": 3
   },
   "file_extension": ".py",
   "mimetype": "text/x-python",
   "name": "python",
   "nbconvert_exporter": "python",
   "pygments_lexer": "ipython3",
   "version": "3.7.6"
  },
  "pycharm": {
   "stem_cell": {
    "cell_type": "raw",
    "metadata": {
     "collapsed": false
    },
    "source": []
   }
  }
 },
 "nbformat": 4,
 "nbformat_minor": 1
}
