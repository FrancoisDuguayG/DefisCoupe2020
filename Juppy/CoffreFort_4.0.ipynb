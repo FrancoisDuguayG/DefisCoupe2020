{
 "cells": [
  {
   "cell_type": "code",
   "execution_count": 1,
   "metadata": {
    "deletable": false,
    "editable": false
   },
   "outputs": [
    {
     "name": "stdout",
     "output_type": "stream",
     "text": [
      "Entrez votre mot de passe: CaDC0C0CaD\n",
      "Accès refusé!\n",
      "Entrez votre mot de passe: CaDC0C0d\n",
      "Accès refusé!\n",
      "Entrez votre mot de passe: 4braCaD4bra\n",
      "Accès autorisé.\n"
     ]
    }
   ],
   "source": [
    "def CoffreFort():\n",
    "    mot_de_passe = input(\"Entrez votre mot de passe: \")\n",
    "    if verifier_mot_de_passe(mot_de_passe):\n",
    "        print(\"Accès autorisé.\")\n",
    "    else:\n",
    "        print(\"Accès refusé!\")\n",
    "        CoffreFort()\n",
    "\n",
    "    ## je suis un Wizard de la programmation\n",
    "    ## Le mot de passe est trop bien cacher!\n",
    "    ## Pouf!\n",
    "\n",
    "def verifier_mot_de_passe(mot_de_passe):\n",
    "    CaD = \"CaD\"\n",
    "    abr4 = \"abr4\"\n",
    "    e4u = \"e4u\"\n",
    "    C0C0 = \"C0C0\"\n",
    "    C0C0 = abr4\n",
    "    e4u = CaD\n",
    "    CaD = C0C0\n",
    "    C0C0 = abr4\n",
    "    return mot_de_passe == CaD + e4u + CaD\n",
    "\n",
    "\n",
    "\n",
    "\n",
    "CoffreFort()"
   ]
  },
  {
   "cell_type": "code",
   "execution_count": null,
   "metadata": {},
   "outputs": [],
   "source": []
  }
 ],
 "metadata": {
  "celltoolbar": "Éditer les Méta-Données",
  "kernelspec": {
   "display_name": "Python 3",
   "language": "python",
   "name": "python3"
  },
  "language_info": {
   "codemirror_mode": {
    "name": "ipython",
    "version": 3
   },
   "file_extension": ".py",
   "mimetype": "text/x-python",
   "name": "python",
   "nbconvert_exporter": "python",
   "pygments_lexer": "ipython3",
   "version": "3.7.6"
  },
  "pycharm": {
   "stem_cell": {
    "cell_type": "raw",
    "source": [],
    "metadata": {
     "collapsed": false
    }
   }
  }
 },
 "nbformat": 4,
 "nbformat_minor": 1
}