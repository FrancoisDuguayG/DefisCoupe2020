{
 "cells": [
  {
   "cell_type": "code",
   "execution_count": null,
   "metadata": {
    "deletable": false,
    "editable": false,
    "pycharm": {
     "name": "#%%\n"
    }
   },
   "outputs": [],
   "source": [
    "def CoffreFort():\n",
    "    mot_de_passe = input(\"Entrez votre mot de passe: \")\n",
    "    if verifier_mot_de_passe(mot_de_passe):\n",
    "        print(\"Accès autorisé.\")\n",
    "    else:\n",
    "        print(\"Accès refusé!\")\n",
    "        CoffreFort()\n",
    "\n",
    "    ## Haha! le mot de passe est maintenant tout mélanger\n",
    "    ## impossible de trouver le mot de passe Mouhaha\n",
    "    ##\n",
    "\n",
    "\n",
    "def verifier_mot_de_passe(mot_de_passe):\n",
    "    passe = \"mot\"\n",
    "    mot = \"de\"\n",
    "    de = \"passe\"\n",
    "    return mot_de_passe == mot + de + passe\n",
    "\n",
    "\n",
    "\n",
    "\n",
    "CoffreFort()"
   ]
  },
  {
   "cell_type": "code",
   "execution_count": null,
   "metadata": {},
   "outputs": [],
   "source": []
  }
 ],
 "metadata": {
  "celltoolbar": "Éditer les Méta-Données",
  "kernelspec": {
   "display_name": "Python 3",
   "language": "python",
   "name": "python3"
  },
  "language_info": {
   "codemirror_mode": {
    "name": "ipython",
    "version": 3
   },
   "file_extension": ".py",
   "mimetype": "text/x-python",
   "name": "python",
   "nbconvert_exporter": "python",
   "pygments_lexer": "ipython3",
   "version": "3.7.6"
  },
  "pycharm": {
   "stem_cell": {
    "cell_type": "raw",
    "metadata": {
     "collapsed": false
    },
    "source": []
   }
  }
 },
 "nbformat": 4,
 "nbformat_minor": 1
}
