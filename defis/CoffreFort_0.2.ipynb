{
 "cells": [
  {
   "cell_type": "code",
   "execution_count": null,
   "metadata": {
    "deletable": false,
    "editable": false,
    "pycharm": {
     "is_executing": true,
     "name": "#%%\n"
    }
   },
   "outputs": [],
   "source": [
    "def CoffreFort():\n",
    "    mot_de_passe = input(\"Entrez votre mot de passe: \")\n",
    "    if verifier_mot_de_passe(mot_de_passe):\n",
    "        print(\"Accès autorisé.\")\n",
    "    else:\n",
    "        print(\"Accès refusé!\")\n",
    "        CoffreFort()\n",
    "        \n",
    "    ## ma pizza préférée c'est clairement la végétarienne\n",
    "    ## ho non! je change d'idée c'est la deux saumons   \n",
    "    ## ho non! c'est la Margherita\n",
    "    ## ...\n",
    "    ## ...\n",
    "    ## finalement, quelle va être ma pizza préférée?\n",
    "\n",
    "\n",
    "def verifier_mot_de_passe(mot_de_passe):\n",
    "    pizza = \"végétarienne\"\n",
    "    pizza = \"deux saumons\"\n",
    "    pizza = \"Margherita\"\n",
    "    pizza = \"toute garnie\"\n",
    "    pizza = \"Quatre fromages\"\n",
    "    pizza = \"Diavola\"\n",
    "    pizza = \"peperoni\"\n",
    "    pizza = \"Romaine\"\n",
    "    pizza = \"bacon\"\n",
    "    pizza = \"hawaienne\"\n",
    "    return mot_de_passe == pizza\n",
    "\n",
    "\n",
    "\n",
    "\n",
    "CoffreFort()"
   ]
  },
  {
   "cell_type": "code",
   "execution_count": null,
   "metadata": {},
   "outputs": [],
   "source": []
  }
 ],
 "metadata": {
  "celltoolbar": "Éditer les Méta-Données",
  "kernelspec": {
   "display_name": "Python 3",
   "language": "python",
   "name": "python3"
  },
  "language_info": {
   "codemirror_mode": {
    "name": "ipython",
    "version": 3
   },
   "file_extension": ".py",
   "mimetype": "text/x-python",
   "name": "python",
   "nbconvert_exporter": "python",
   "pygments_lexer": "ipython3",
   "version": "3.7.6"
  },
  "pycharm": {
   "stem_cell": {
    "cell_type": "raw",
    "source": [],
    "metadata": {
     "collapsed": false
    }
   }
  }
 },
 "nbformat": 4,
 "nbformat_minor": 1
}