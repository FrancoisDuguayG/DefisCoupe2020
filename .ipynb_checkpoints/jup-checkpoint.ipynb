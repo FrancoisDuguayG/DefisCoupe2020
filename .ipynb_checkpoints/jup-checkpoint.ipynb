{
 "cells": [
  {
   "cell_type": "code",
   "execution_count": 1,
   "metadata": {},
   "outputs": [
    {
     "name": "stdout",
     "output_type": "stream",
     "text": [
      "Entrez votre mot de passe: g\n",
      "Accès refusé!\n"
     ]
    }
   ],
   "source": [
    "def CoffreFort():\n",
    "    motDePasse = input(\"Entrez votre mot de passe: \")\n",
    "    if (verifierMotDePasse(motDePasse)):\n",
    "        print(\"Accès autorisé.\")\n",
    "    else:\n",
    "        print(\"Accès refusé!\")\n",
    "\n",
    "    # Le mot de passe est ci-dessous. Est-il prudent de mettre le mot de passe dans le code source?\n",
    "    # Et si quelqu'un volait notre code source? Ils sauraient notre\n",
    "    # mot de passe. Hmm ... je vais penser à quelques façons d'améliorer la sécurité\n",
    "    # sur les autres portes.\n",
    "    #\n",
    "    # -Minion # 9567\n",
    "\n",
    "def verifierMotDePasse(motDePasse):\n",
    "    return motDePasse == \"M0t_D3_p4sSe_003\"\n",
    "\n",
    "\n",
    "if __name__ == '__main__':\n",
    "    CoffreFort()\n"
   ]
  },
  {
   "cell_type": "code",
   "execution_count": null,
   "metadata": {},
   "outputs": [],
   "source": []
  }
 ],
 "metadata": {
  "celltoolbar": "Éditer les Méta-Données",
  "kernelspec": {
   "display_name": "Python 3",
   "language": "python",
   "name": "python3"
  },
  "language_info": {
   "codemirror_mode": {
    "name": "ipython",
    "version": 3
   },
   "file_extension": ".py",
   "mimetype": "text/x-python",
   "name": "python",
   "nbconvert_exporter": "python",
   "pygments_lexer": "ipython3",
   "version": "3.7.6"
  }
 },
 "nbformat": 4,
 "nbformat_minor": 1
}
